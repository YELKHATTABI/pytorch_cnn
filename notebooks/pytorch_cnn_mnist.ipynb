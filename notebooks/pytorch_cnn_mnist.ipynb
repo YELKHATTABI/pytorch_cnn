{
 "cells": [
  {
   "cell_type": "markdown",
   "metadata": {},
   "source": [
    "# Pytorch\n",
    "\n",
    "pytorch is a python library for deep learning. It is built on top of the CPU and GPU.\n",
    "\n",
    "## Installation\n",
    "\n",
    "```bash\n",
    "pip install torch\n",
    "```\n",
    "\n",
    "## Import\n",
    "\n",
    "```python\n",
    "import torch\n",
    "```\n",
    "\n",
    "With pytorch you can create a model and train it. You can also create datasets object and iterate over them"
   ]
  },
  {
   "cell_type": "code",
   "execution_count": 1,
   "metadata": {},
   "outputs": [],
   "source": [
    "import torch\n",
    "from torch.utils.data import Dataset, DataLoader\n",
    "from torch.utils.tensorboard import SummaryWriter\n",
    "import pandas as pd\n",
    "import os\n",
    "import numpy as np\n",
    "from PIL import Image\n",
    "import matplotlib.pyplot as plt\n",
    "from tqdm import tqdm"
   ]
  },
  {
   "cell_type": "code",
   "execution_count": 2,
   "metadata": {},
   "outputs": [],
   "source": [
    "\n",
    "\n",
    "def transform_image(image: torch.Tensor) -> torch.Tensor:\n",
    "    \"\"\"flattens the image tensor\n",
    "    \"\"\"\n",
    "    image = image.float() # convert the flattened image to a float tensor to be able to normalize it\n",
    "    \n",
    "    # normalize the image to be between 0 and 1 we devide by 255 because the image is in the range of 0 to 255\n",
    "    image = image / 255.0\n",
    "    image = image.unsqueeze(0) # add a dimension to the tensor to be able to add the channel dimension\n",
    "    return image\n",
    "\n",
    "def read_image_torch(image_path: str) -> torch.Tensor:\n",
    "    \"\"\"reads the image from the path and returns a tensor\n",
    "    \"\"\"\n",
    "    image = Image.open(image_path)\n",
    "    array_image = np.array(image)\n",
    "    return torch.as_tensor(array_image)\n",
    "\n",
    "def read_image_to_labels_file(annotations_file: str, train: bool) -> pd.DataFrame:\n",
    "    \"\"\"Reads the image labels from the annotations file\n",
    "    \"\"\"\n",
    "    img_labels = pd.read_csv(annotations_file)\n",
    "    img_labels = img_labels[img_labels['train'] == train]\n",
    "    return img_labels\n",
    "\n",
    "class MnistDataset(Dataset):\n",
    "    \"\"\"A Pytorch Dataset class for the MNIST dataset\n",
    "    \"\"\"\n",
    "    def __init__(self, annotations_file, images_folder, train, transform=None, target_transform=None):\n",
    "        self.img_labels = read_image_to_labels_file(annotations_file, train)\n",
    "        self.images_folder = images_folder\n",
    "        self.transform = transform\n",
    "        self.target_transform = target_transform\n",
    "\n",
    "    # we always need to define the __len__ method for the dataset\n",
    "    def __len__(self):\n",
    "        return len(self.img_labels)\n",
    "\n",
    "    # we always need to define the __getitem__ method for the dataset\n",
    "    def __getitem__(self, idx):\n",
    "        img_path = os.path.join(self.images_folder, self.img_labels.iloc[idx, 0])\n",
    "        image = read_image_torch(img_path)\n",
    "        label = self.img_labels.iloc[idx, 1]\n",
    "        if self.transform:\n",
    "            image = self.transform(image)\n",
    "        if self.target_transform:\n",
    "            label = self.target_transform(label)\n",
    "        return image, label"
   ]
  },
  {
   "cell_type": "code",
   "execution_count": 3,
   "metadata": {},
   "outputs": [],
   "source": [
    "mnist_no_transform_dataset = MnistDataset(\n",
    "    annotations_file=\"../data/mnist/mnist.csv\",\n",
    "    images_folder=\"../data/mnist\",\n",
    "    train=True,\n",
    ")"
   ]
  },
  {
   "cell_type": "code",
   "execution_count": 4,
   "metadata": {},
   "outputs": [],
   "source": [
    "iterator = iter(mnist_no_transform_dataset)"
   ]
  },
  {
   "cell_type": "code",
   "execution_count": 5,
   "metadata": {},
   "outputs": [],
   "source": [
    "x, y = next(iterator)"
   ]
  },
  {
   "cell_type": "code",
   "execution_count": 6,
   "metadata": {},
   "outputs": [
    {
     "data": {
      "text/plain": [
       "<matplotlib.image.AxesImage at 0x7ebfe1764a30>"
      ]
     },
     "execution_count": 6,
     "metadata": {},
     "output_type": "execute_result"
    },
    {
     "data": {
      "image/png": "[encoded data removed]",
      "text/plain": [
       "<Figure size 640x480 with 1 Axes>"
      ]
     },
     "metadata": {},
     "output_type": "display_data"
    }
   ],
   "source": [
    "plt.imshow(x)"
   ]
  },
  {
   "cell_type": "code",
   "execution_count": 7,
   "metadata": {},
   "outputs": [
    {
     "data": {
      "text/plain": [
       "np.int64(8)"
      ]
     },
     "execution_count": 7,
     "metadata": {},
     "output_type": "execute_result"
    }
   ],
   "source": [
    "y"
   ]
  },
  {
   "cell_type": "markdown",
   "metadata": {},
   "source": [
    "# Data loaders with pytorch"
   ]
  },
  {
   "cell_type": "code",
   "execution_count": 8,
   "metadata": {},
   "outputs": [],
   "source": [
    "train_dataset = MnistDataset(\n",
    "    annotations_file=\"../data/mnist/mnist.csv\", \n",
    "    images_folder=\"../data/mnist/\", \n",
    "    train=True, \n",
    "    transform=transform_image, \n",
    "    target_transform=None,\n",
    ")\n",
    "test_dataset = MnistDataset(\n",
    "    annotations_file=\"../data/mnist/mnist.csv\", \n",
    "    images_folder=\"../data/mnist/\", \n",
    "    train=False, \n",
    "    transform=transform_image, \n",
    "    target_transform=None,\n",
    ")\n",
    "train_dataloader = DataLoader(train_dataset, batch_size=100, shuffle=True)\n",
    "test_dataloader = DataLoader(test_dataset, batch_size=100, shuffle=True)"
   ]
  },
  {
   "cell_type": "code",
   "execution_count": 9,
   "metadata": {},
   "outputs": [],
   "source": [
    "x, y = next(iter(train_dataloader))"
   ]
  },
  {
   "cell_type": "code",
   "execution_count": 11,
   "metadata": {},
   "outputs": [
    {
     "data": {
      "text/plain": [
       "torch.Size([100, 1, 28, 28])"
      ]
     },
     "execution_count": 11,
     "metadata": {},
     "output_type": "execute_result"
    }
   ],
   "source": [
    "x.shape"
   ]
  },
  {
   "cell_type": "code",
   "execution_count": 16,
   "metadata": {},
   "outputs": [],
   "source": [
    "# create fully connected layer pytorch\n",
    "from torch import nn\n",
    "import torch.nn.functional as F\n",
    "\n",
    "class SimpleCNN(nn.Module):\n",
    "    def __init__(self):\n",
    "        super().__init__()\n",
    "        self.conv1 = nn.Conv2d(in_channels=1, out_channels=12, kernel_size=3, stride=1, padding=1, bias=True)  # 28x28x1 -> 28x28x12\n",
    "        self.pool = nn.MaxPool2d(kernel_size=2, stride=2, padding=0)  # devides input by 2 28x28x12 -> 14x14x12\n",
    "        self.conv2 = nn.Conv2d(in_channels=12, out_channels=24, kernel_size=3, stride=1, padding=1, bias=True)  # 14x14x12 -> 14x14x24\n",
    "        self.fc1 = nn.Linear( 7 * 7 * 24, 10)  # Fully connected layer\n",
    "        # self.fc2 = nn.Linear(128, 10)  # Output layer (10 classes for digits 0-9)\n",
    "\n",
    "\n",
    "    def forward(self, x):\n",
    "        x = self.conv1(x) # 28x28x1 -> 28x18x12 \n",
    "        x = F.relu(x)  # 28 x 28 x 12\n",
    "        x = self.pool(x) # 28x18x12 -> 14x14x12\n",
    "        x = self.conv2(x) # 14x14x12 -> 14x14x24\n",
    "        x = F.relu(x) # 14x14x25\n",
    "        x = self.pool(x) # 14x14x24 -> 7x7x24\n",
    "        x = x.view(-1, 7 * 7 * 24) # flatten \n",
    "        x = self.fc1(x)\n",
    "        # x = F.relu(x)\n",
    "        # x = self.fc2(x)\n",
    "        return x\n",
    "    \n",
    "# Evaluate the performance of the neural network\n",
    "def evaluate(net, test_dataloader):\n",
    "    ground_truths = []\n",
    "    predictions = []\n",
    "    net = net.eval()\n",
    "    with torch.no_grad():\n",
    "        correct = 0\n",
    "        total = 0\n",
    "        eval_loss = 0\n",
    "        for x, y in tqdm(test_dataloader):\n",
    "            x = x.to(\"cuda\")\n",
    "            y_pred = net(x).to('cpu')\n",
    "            predicted = y_pred.argmax(dim=1)\n",
    "            total += y.size(0)\n",
    "            correct += (predicted == y).sum().item()\n",
    "            eval_loss += F.cross_entropy(y_pred, y, reduction='sum').item()\n",
    "            ground_truths.extend(y.tolist())\n",
    "            predictions.extend(predicted.tolist())\n",
    "        accuracy = correct / total\n",
    "        eval_loss = eval_loss / total\n",
    "        print(f'Eval Loss: {eval_loss}')\n",
    "        print(f'Accuracy: {accuracy:.2f}')\n",
    "        \n",
    "    net = net.train()\n",
    "    return ground_truths, predictions, accuracy, eval_loss\n",
    "\n",
    "    "
   ]
  },
  {
   "cell_type": "code",
   "execution_count": null,
   "metadata": {},
   "outputs": [
    {
     "name": "stderr",
     "output_type": "stream",
     "text": [
      "  0%|          | 0/600 [00:00<?, ?it/s]"
     ]
    },
    {
     "name": "stderr",
     "output_type": "stream",
     "text": [
      "100%|██████████| 600/600 [00:08<00:00, 74.37it/s]\n"
     ]
    },
    {
     "name": "stdout",
     "output_type": "stream",
     "text": [
      "------- Epoch 1: Train Loss 0.38964759003371\n"
     ]
    },
    {
     "name": "stderr",
     "output_type": "stream",
     "text": [
      "100%|██████████| 100/100 [00:02<00:00, 36.81it/s]\n"
     ]
    },
    {
     "name": "stdout",
     "output_type": "stream",
     "text": [
      "Eval Loss: 0.13260524563789367\n",
      "Accuracy: 0.96\n"
     ]
    },
    {
     "name": "stderr",
     "output_type": "stream",
     "text": [
      "100%|██████████| 600/600 [00:08<00:00, 72.99it/s]\n"
     ]
    },
    {
     "name": "stdout",
     "output_type": "stream",
     "text": [
      "------- Epoch 2: Train Loss 0.10590000302841265\n"
     ]
    },
    {
     "name": "stderr",
     "output_type": "stream",
     "text": [
      "100%|██████████| 100/100 [00:02<00:00, 39.16it/s]\n"
     ]
    },
    {
     "name": "stdout",
     "output_type": "stream",
     "text": [
      "Eval Loss: 0.07146368262767792\n",
      "Accuracy: 0.98\n"
     ]
    },
    {
     "name": "stderr",
     "output_type": "stream",
     "text": [
      "100%|██████████| 600/600 [00:08<00:00, 72.98it/s]\n"
     ]
    },
    {
     "name": "stdout",
     "output_type": "stream",
     "text": [
      "------- Epoch 3: Train Loss 0.07185492836249371\n"
     ]
    },
    {
     "name": "stderr",
     "output_type": "stream",
     "text": [
      "100%|██████████| 100/100 [00:02<00:00, 46.48it/s]\n"
     ]
    },
    {
     "name": "stdout",
     "output_type": "stream",
     "text": [
      "Eval Loss: 0.06136503654122353\n",
      "Accuracy: 0.98\n"
     ]
    },
    {
     "name": "stderr",
     "output_type": "stream",
     "text": [
      "100%|██████████| 600/600 [00:08<00:00, 73.55it/s]\n"
     ]
    },
    {
     "name": "stdout",
     "output_type": "stream",
     "text": [
      "------- Epoch 4: Train Loss 0.05846249550115317\n"
     ]
    },
    {
     "name": "stderr",
     "output_type": "stream",
     "text": [
      " 31%|███       | 31/100 [00:00<00:01, 37.51it/s]"
     ]
    }
   ],
   "source": [
    "very_simple_net = SimpleCNN().to('cuda')\n",
    "# train very_simple_net\n",
    "\n",
    "learning_rate = 0.001\n",
    "optimizer = torch.optim.Adam(very_simple_net.parameters(), lr=learning_rate)\n",
    "\n",
    "loss_fn = nn.CrossEntropyLoss()\n",
    "\n",
    "summary_writer = SummaryWriter(log_dir='./runs/cnn_mnist')\n",
    "\n",
    "num_epochs = 5\n",
    "for epoch in range(num_epochs):\n",
    "    accumulated_loss = 0\n",
    "    for x, y in tqdm(train_dataloader):\n",
    "        x = x.to('cuda')\n",
    "        y = y.to('cuda')\n",
    "        # Forward pass: Compute predicted y by passing x to the model\n",
    "        y_pred = very_simple_net(x)\n",
    "\n",
    "        # Compute and print loss\n",
    "        loss = loss_fn(y_pred, y)\n",
    "        accumulated_loss += loss.item()\n",
    "\n",
    "        # Zero gradients, perform a backward pass, and update the weights.\n",
    "        optimizer.zero_grad()\n",
    "        loss.backward()\n",
    "        optimizer.step()\n",
    "    print(f'------- Epoch {epoch + 1}: Train Loss {accumulated_loss/len(train_dataloader)}')\n",
    "    _, _, eval_acc, eval_loss = evaluate(very_simple_net, test_dataloader)\n",
    "    summary_writer.add_scalars('Loss', {'train': accumulated_loss/len(train_dataloader), 'eval': eval_loss}, epoch)\n",
    "    summary_writer.add_scalars('Accuracy', {'eval': eval_acc}, epoch)\n",
    "\n",
    "summary_writer.close()"
   ]
  },
  {
   "cell_type": "code",
   "execution_count": 19,
   "metadata": {},
   "outputs": [
    {
     "name": "stderr",
     "output_type": "stream",
     "text": [
      "100%|██████████| 157/157 [00:01<00:00, 90.87it/s] \n"
     ]
    },
    {
     "name": "stdout",
     "output_type": "stream",
     "text": [
      "Eval Loss: 0.03365423967279494\n",
      "Accuracy: 0.99\n"
     ]
    },
    {
     "data": {
      "image/png": "[encoded data removed]",
      "text/plain": [
       "<Figure size 640x480 with 2 Axes>"
      ]
     },
     "metadata": {},
     "output_type": "display_data"
    },
    {
     "name": "stdout",
     "output_type": "stream",
     "text": [
      "              precision    recall  f1-score   support\n",
      "\n",
      "           0       0.99      1.00      0.99       980\n",
      "           1       0.99      0.99      0.99      1135\n",
      "           2       0.99      0.99      0.99      1032\n",
      "           3       0.99      0.99      0.99      1010\n",
      "           4       0.98      1.00      0.99       982\n",
      "           5       0.98      0.99      0.99       892\n",
      "           6       1.00      0.98      0.99       958\n",
      "           7       0.98      0.99      0.98      1028\n",
      "           8       0.99      0.98      0.99       974\n",
      "           9       0.99      0.97      0.98      1009\n",
      "\n",
      "    accuracy                           0.99     10000\n",
      "   macro avg       0.99      0.99      0.99     10000\n",
      "weighted avg       0.99      0.99      0.99     10000\n",
      "\n"
     ]
    }
   ],
   "source": [
    "from sklearn.metrics import ConfusionMatrixDisplay, classification_report\n",
    "ground_truths, predictions, acc, eval_losses = evaluate(very_simple_net, test_dataloader)\n",
    "ConfusionMatrixDisplay.from_predictions(ground_truths, predictions)\n",
    "plt.show()\n",
    "print(classification_report(ground_truths, predictions))"
   ]
  },
  {
   "cell_type": "code",
   "execution_count": null,
   "metadata": {},
   "outputs": [],
   "source": []
  }
 ],
 "metadata": {
  "kernelspec": {
   "display_name": ".venv",
   "language": "python",
   "name": "python3"
  },
  "language_info": {
   "codemirror_mode": {
    "name": "ipython",
    "version": 3
   },
   "file_extension": ".py",
   "mimetype": "text/x-python",
   "name": "python",
   "nbconvert_exporter": "python",
   "pygments_lexer": "ipython3",
   "version": "3.10.14"
  }
 },
 "nbformat": 4,
 "nbformat_minor": 2
}
